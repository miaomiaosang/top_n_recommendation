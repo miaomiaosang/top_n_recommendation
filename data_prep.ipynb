{
 "cells": [
  {
   "cell_type": "markdown",
   "metadata": {},
   "source": [
    "# Data Preparation"
   ]
  },
  {
   "cell_type": "code",
   "execution_count": 2,
   "metadata": {
    "ExecuteTime": {
     "end_time": "2019-04-28T23:47:23.359137Z",
     "start_time": "2019-04-28T23:47:22.717820Z"
    }
   },
   "outputs": [],
   "source": [
    "import pandas as pd \n",
    "import numpy as np\n",
    "np.random.seed(20190414)"
   ]
  },
  {
   "cell_type": "markdown",
   "metadata": {},
   "source": [
    "## Preparing Training Set\n",
    "\n",
    "Need to run only once"
   ]
  },
  {
   "cell_type": "code",
   "execution_count": 5,
   "metadata": {
    "ExecuteTime": {
     "end_time": "2019-04-28T23:49:56.350850Z",
     "start_time": "2019-04-28T23:49:56.343863Z"
    }
   },
   "outputs": [],
   "source": [
    "# data = pd.read_csv('../../../../recsys_data/train_triplets.txt', sep=r'\\s+', names=['user','song','play_count'])"
   ]
  },
  {
   "cell_type": "code",
   "execution_count": 6,
   "metadata": {
    "ExecuteTime": {
     "end_time": "2019-04-28T23:49:56.499616Z",
     "start_time": "2019-04-28T23:49:56.497073Z"
    }
   },
   "outputs": [],
   "source": [
    "# print(\"Number of triplets\", len(data))\n",
    "# print(\"Number of users\", data['user'].nunique())\n",
    "# print(\"Number of songs\", data['song'].nunique())"
   ]
  },
  {
   "cell_type": "code",
   "execution_count": 7,
   "metadata": {
    "ExecuteTime": {
     "end_time": "2019-04-28T23:49:56.640684Z",
     "start_time": "2019-04-28T23:49:56.638266Z"
    }
   },
   "outputs": [],
   "source": [
    "# meta_song = pd.read_csv('../../../../recsys_data/unique_tracks.txt',sep=r'<SEP>',names = ['trackId','songId','artist','title'],engine = 'python')\n",
    "# # sample one row per song ID, such that data and meta data have the same number of songId\n",
    "# meta_song1 = meta_song.groupby('songId', group_keys=False).apply(lambda df: df.sample(1))\n",
    "# meta_song1 = meta_song1.drop(['trackId'], axis = 1)"
   ]
  },
  {
   "cell_type": "code",
   "execution_count": 8,
   "metadata": {
    "ExecuteTime": {
     "end_time": "2019-04-28T23:49:56.800823Z",
     "start_time": "2019-04-28T23:49:56.796787Z"
    }
   },
   "outputs": [],
   "source": [
    "# print(\"Meta-data available for\", meta_song1['songId'].nunique(), \"songs\")"
   ]
  },
  {
   "cell_type": "code",
   "execution_count": 9,
   "metadata": {
    "ExecuteTime": {
     "end_time": "2019-04-28T23:49:56.958165Z",
     "start_time": "2019-04-28T23:49:56.955101Z"
    }
   },
   "outputs": [],
   "source": [
    "# # Join the two tables!\n",
    "# tryi = data.merge(meta_song1, how='left', left_on='song', right_on='songId')\n",
    "# tryi = tryi.drop(['songId'], axis = 1)"
   ]
  },
  {
   "cell_type": "code",
   "execution_count": 10,
   "metadata": {
    "ExecuteTime": {
     "end_time": "2019-04-28T23:49:57.139058Z",
     "start_time": "2019-04-28T23:49:57.136850Z"
    }
   },
   "outputs": [],
   "source": [
    "# tryi['play_count'] = 1"
   ]
  },
  {
   "cell_type": "code",
   "execution_count": 11,
   "metadata": {
    "ExecuteTime": {
     "end_time": "2019-04-28T23:49:58.500328Z",
     "start_time": "2019-04-28T23:49:58.497584Z"
    }
   },
   "outputs": [],
   "source": [
    "# tryi.head()"
   ]
  },
  {
   "cell_type": "code",
   "execution_count": 12,
   "metadata": {
    "ExecuteTime": {
     "end_time": "2019-04-28T23:50:02.243673Z",
     "start_time": "2019-04-28T23:50:02.240642Z"
    }
   },
   "outputs": [],
   "source": [
    "# tryi.to_csv('../../../../recsys_data/training_set.csv')"
   ]
  },
  {
   "cell_type": "markdown",
   "metadata": {},
   "source": [
    "## Using previously saved training set to generate smaller test/train sets"
   ]
  },
  {
   "cell_type": "code",
   "execution_count": 4,
   "metadata": {
    "ExecuteTime": {
     "end_time": "2019-04-28T23:49:39.923021Z",
     "start_time": "2019-04-28T23:48:19.801740Z"
    }
   },
   "outputs": [],
   "source": [
    "tryi = pd.read_csv('/Users/mms/Documents/GitHub/recsys_data/train_set_10k.csv')"
   ]
  },
  {
   "cell_type": "code",
   "execution_count": 5,
   "metadata": {
    "ExecuteTime": {
     "end_time": "2019-04-28T23:51:22.356791Z",
     "start_time": "2019-04-28T23:51:22.310788Z"
    }
   },
   "outputs": [
    {
     "data": {
      "text/html": [
       "<div>\n",
       "<style scoped>\n",
       "    .dataframe tbody tr th:only-of-type {\n",
       "        vertical-align: middle;\n",
       "    }\n",
       "\n",
       "    .dataframe tbody tr th {\n",
       "        vertical-align: top;\n",
       "    }\n",
       "\n",
       "    .dataframe thead th {\n",
       "        text-align: right;\n",
       "    }\n",
       "</style>\n",
       "<table border=\"1\" class=\"dataframe\">\n",
       "  <thead>\n",
       "    <tr style=\"text-align: right;\">\n",
       "      <th></th>\n",
       "      <th>Unnamed: 0</th>\n",
       "      <th>Unnamed: 0.1</th>\n",
       "      <th>user</th>\n",
       "      <th>song</th>\n",
       "      <th>play_count</th>\n",
       "      <th>artist</th>\n",
       "      <th>title</th>\n",
       "    </tr>\n",
       "  </thead>\n",
       "  <tbody>\n",
       "    <tr>\n",
       "      <th>0</th>\n",
       "      <td>0</td>\n",
       "      <td>0</td>\n",
       "      <td>b80344d063b5ccb3212f76538f3d9e43d87dca9e</td>\n",
       "      <td>SOAKIMP12A8C130995</td>\n",
       "      <td>1</td>\n",
       "      <td>Jack Johnson</td>\n",
       "      <td>The Cove</td>\n",
       "    </tr>\n",
       "    <tr>\n",
       "      <th>1</th>\n",
       "      <td>1</td>\n",
       "      <td>1</td>\n",
       "      <td>b80344d063b5ccb3212f76538f3d9e43d87dca9e</td>\n",
       "      <td>SOAPDEY12A81C210A9</td>\n",
       "      <td>1</td>\n",
       "      <td>Billy Preston</td>\n",
       "      <td>Nothing from Nothing</td>\n",
       "    </tr>\n",
       "    <tr>\n",
       "      <th>2</th>\n",
       "      <td>2</td>\n",
       "      <td>2</td>\n",
       "      <td>b80344d063b5ccb3212f76538f3d9e43d87dca9e</td>\n",
       "      <td>SOBBMDR12A8C13253B</td>\n",
       "      <td>1</td>\n",
       "      <td>Paco De Lucia</td>\n",
       "      <td>Entre Dos Aguas</td>\n",
       "    </tr>\n",
       "    <tr>\n",
       "      <th>3</th>\n",
       "      <td>3</td>\n",
       "      <td>3</td>\n",
       "      <td>b80344d063b5ccb3212f76538f3d9e43d87dca9e</td>\n",
       "      <td>SOBFNSP12AF72A0E22</td>\n",
       "      <td>1</td>\n",
       "      <td>Josh Rouse</td>\n",
       "      <td>Under Cold Blue Stars</td>\n",
       "    </tr>\n",
       "    <tr>\n",
       "      <th>4</th>\n",
       "      <td>4</td>\n",
       "      <td>4</td>\n",
       "      <td>b80344d063b5ccb3212f76538f3d9e43d87dca9e</td>\n",
       "      <td>SOBFOVM12A58A7D494</td>\n",
       "      <td>1</td>\n",
       "      <td>The Dead 60s</td>\n",
       "      <td>Riot Radio (Soundtrack Version)</td>\n",
       "    </tr>\n",
       "  </tbody>\n",
       "</table>\n",
       "</div>"
      ],
      "text/plain": [
       "   Unnamed: 0  Unnamed: 0.1                                      user  \\\n",
       "0           0             0  b80344d063b5ccb3212f76538f3d9e43d87dca9e   \n",
       "1           1             1  b80344d063b5ccb3212f76538f3d9e43d87dca9e   \n",
       "2           2             2  b80344d063b5ccb3212f76538f3d9e43d87dca9e   \n",
       "3           3             3  b80344d063b5ccb3212f76538f3d9e43d87dca9e   \n",
       "4           4             4  b80344d063b5ccb3212f76538f3d9e43d87dca9e   \n",
       "\n",
       "                 song  play_count         artist  \\\n",
       "0  SOAKIMP12A8C130995           1   Jack Johnson   \n",
       "1  SOAPDEY12A81C210A9           1  Billy Preston   \n",
       "2  SOBBMDR12A8C13253B           1  Paco De Lucia   \n",
       "3  SOBFNSP12AF72A0E22           1     Josh Rouse   \n",
       "4  SOBFOVM12A58A7D494           1   The Dead 60s   \n",
       "\n",
       "                             title  \n",
       "0                         The Cove  \n",
       "1             Nothing from Nothing  \n",
       "2                  Entre Dos Aguas  \n",
       "3            Under Cold Blue Stars  \n",
       "4  Riot Radio (Soundtrack Version)  "
      ]
     },
     "execution_count": 5,
     "metadata": {},
     "output_type": "execute_result"
    }
   ],
   "source": [
    "tryi.head()"
   ]
  },
  {
   "cell_type": "code",
   "execution_count": 6,
   "metadata": {
    "ExecuteTime": {
     "end_time": "2019-04-28T23:52:46.283088Z",
     "start_time": "2019-04-28T23:52:46.280465Z"
    }
   },
   "outputs": [],
   "source": [
    "x = 10 # take 100,000 users"
   ]
  },
  {
   "cell_type": "code",
   "execution_count": 7,
   "metadata": {
    "ExecuteTime": {
     "end_time": "2019-04-28T23:52:51.492067Z",
     "start_time": "2019-04-28T23:52:50.313837Z"
    }
   },
   "outputs": [],
   "source": [
    "users = tryi['user'].drop_duplicates().reset_index(drop=True)[:x] "
   ]
  },
  {
   "cell_type": "code",
   "execution_count": 8,
   "metadata": {
    "ExecuteTime": {
     "end_time": "2019-04-28T23:53:04.417952Z",
     "start_time": "2019-04-28T23:53:00.052142Z"
    }
   },
   "outputs": [],
   "source": [
    "msk = np.random.rand(len(users)) < 0.9\n",
    "train_users = users[msk]\n",
    "test_users = users[~msk]\n",
    "train_sr_ratings = tryi.loc[tryi['user'].isin(train_users)]\n",
    "test_sr_ratings = tryi.loc[tryi['user'].isin(test_users)]"
   ]
  },
  {
   "cell_type": "code",
   "execution_count": 10,
   "metadata": {
    "ExecuteTime": {
     "end_time": "2019-04-28T23:54:02.200930Z",
     "start_time": "2019-04-28T23:53:37.603856Z"
    }
   },
   "outputs": [],
   "source": [
    "train_sr_ratings.to_csv('../../../../recsys_data/train_set_'+'10'+'.csv')\n",
    "test_sr_ratings.to_csv('../../../../recsys_data/test_set_'+'10'+'.csv')"
   ]
  },
  {
   "cell_type": "code",
   "execution_count": 21,
   "metadata": {
    "ExecuteTime": {
     "end_time": "2019-04-28T23:54:02.513474Z",
     "start_time": "2019-04-28T23:54:02.202752Z"
    }
   },
   "outputs": [
    {
     "data": {
      "text/plain": [
       "90098"
      ]
     },
     "execution_count": 21,
     "metadata": {},
     "output_type": "execute_result"
    }
   ],
   "source": [
    "train_sr_ratings['user'].nunique()"
   ]
  },
  {
   "cell_type": "code",
   "execution_count": 22,
   "metadata": {
    "ExecuteTime": {
     "end_time": "2019-04-28T23:54:02.562524Z",
     "start_time": "2019-04-28T23:54:02.515971Z"
    }
   },
   "outputs": [
    {
     "data": {
      "text/plain": [
       "9902"
      ]
     },
     "execution_count": 22,
     "metadata": {},
     "output_type": "execute_result"
    }
   ],
   "source": [
    "test_sr_ratings['user'].nunique()"
   ]
  }
 ],
 "metadata": {
  "kernelspec": {
   "display_name": "Python 3",
   "language": "python",
   "name": "python3"
  },
  "language_info": {
   "codemirror_mode": {
    "name": "ipython",
    "version": 3
   },
   "file_extension": ".py",
   "mimetype": "text/x-python",
   "name": "python",
   "nbconvert_exporter": "python",
   "pygments_lexer": "ipython3",
   "version": "3.7.1"
  }
 },
 "nbformat": 4,
 "nbformat_minor": 2
}
